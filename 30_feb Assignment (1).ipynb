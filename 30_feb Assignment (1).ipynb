{
 "cells": [
  {
   "cell_type": "code",
   "execution_count": 8,
   "id": "b7a4e490-5a45-4e4d-a27c-6c1364daa90e",
   "metadata": {},
   "outputs": [
    {
     "name": "stdin",
     "output_type": "stream",
     "text": [
      "enter your marks 6\n"
     ]
    },
    {
     "name": "stdout",
     "output_type": "stream",
     "text": [
      "grade is D\n"
     ]
    }
   ],
   "source": [
    "##Q1.)\n",
    "\n",
    "marks = int(input(\"enter your marks\"))\n",
    "\n",
    "            \n",
    "if marks > 90 :\n",
    "    print(\"grade is A\")\n",
    "            \n",
    "elif  marks > 80 and marks <= 90:\n",
    "             print(\" grade is B\")\n",
    "            \n",
    "elif marks >= 60 and marks <= 80:\n",
    "         print(\"grade is C\")\n",
    "        \n",
    "else:\n",
    "    \n",
    "    print(\"grade is D\")\n",
    "            \n",
    "            \n",
    "            \n",
    "            \n",
    "                  \n",
    "            \n",
    "            \n",
    "            \n",
    "            "
   ]
  },
  {
   "cell_type": "code",
   "execution_count": 13,
   "id": "01cee19b-9e76-4aa8-8b14-7a24781e4d54",
   "metadata": {},
   "outputs": [
    {
     "name": "stdin",
     "output_type": "stream",
     "text": [
      "enter the prize of the bike 8000\n"
     ]
    },
    {
     "name": "stdout",
     "output_type": "stream",
     "text": [
      "tab will be 5%\n"
     ]
    }
   ],
   "source": [
    "##Q2.)\n",
    "\n",
    "bike_price = int(input(\"enter the prize of the bike\"))\n",
    "    \n",
    "if bike_price > 100000:\n",
    "    print(\"tax will be 15%\")\n",
    "    \n",
    "elif bike_price >50000 and bike_price <= 100000:\n",
    "    print(\"tax will be 10%\")\n",
    "\n",
    "    \n",
    "    \n",
    "else :\n",
    "    print(\"tab will be 5%\")\n",
    "    \n",
    "    \n",
    "    \n",
    "    \n",
    "    \n",
    "    \n",
    "    \n",
    "    \n",
    "    \n",
    "    \n",
    "    \n",
    "    \n",
    "    \n",
    "    "
   ]
  },
  {
   "cell_type": "code",
   "execution_count": null,
   "id": "1a840578-14eb-42db-a775-05d3f863e5d6",
   "metadata": {},
   "outputs": [],
   "source": []
  },
  {
   "cell_type": "code",
   "execution_count": 17,
   "id": "f2d231ec-1573-4a42-9bc6-f8c5a1cb5364",
   "metadata": {},
   "outputs": [
    {
     "name": "stdin",
     "output_type": "stream",
     "text": [
      "enter the name of the city Jaipur\n"
     ]
    },
    {
     "name": "stdout",
     "output_type": "stream",
     "text": [
      "JAL MAHAL\n"
     ]
    }
   ],
   "source": [
    "##Q3.)\n",
    "\n",
    "city_name = str(input(\"enter the name of the city\"))\n",
    "    \n",
    "if city_name == \"Delhi\":\n",
    "    print(\"RED FORT\")\n",
    "    \n",
    "elif city_name == \"Agra\":\n",
    "    print(\"TAJ MAHAL\")\n",
    "\n",
    "elif   city_name == \"Jaipur\" :\n",
    "    print(\"JAL MAHAL\")\n",
    "    \n",
    "    \n",
    "    \n",
    "    \n",
    "    \n",
    "    \n",
    "    \n",
    "    \n",
    "    \n",
    "    \n",
    "    \n",
    "    \n",
    "    \n",
    "    "
   ]
  },
  {
   "cell_type": "code",
   "execution_count": 23,
   "id": "6ca93329-cb3d-4a7a-9a6c-1f46a7d97325",
   "metadata": {},
   "outputs": [
    {
     "name": "stdin",
     "output_type": "stream",
     "text": [
      "enter the no 12\n"
     ]
    },
    {
     "name": "stdout",
     "output_type": "stream",
     "text": [
      "the number can be divided by 3 only 1 times when its always greater than or equal to 10\n"
     ]
    },
    {
     "data": {
      "text/plain": [
       "1"
      ]
     },
     "execution_count": 23,
     "metadata": {},
     "output_type": "execute_result"
    }
   ],
   "source": [
    "##Q4.)\n",
    "\n",
    "n = int(input(\"enter the no\"))\n",
    "count = 0\n",
    "while n >= 10:\n",
    "    n = n / 3\n",
    "    count += 1\n",
    "    print(\"the number can be divided by 3 only\",count,\"times when its always greater than or equal to 10\")\n",
    "    \n",
    "count  "
   ]
  },
  {
   "cell_type": "code",
   "execution_count": 2,
   "id": "55d76fb6-a87b-443e-9855-ed6aae321e6f",
   "metadata": {},
   "outputs": [
    {
     "name": "stdin",
     "output_type": "stream",
     "text": [
      "enter your number 3\n"
     ]
    },
    {
     "name": "stdout",
     "output_type": "stream",
     "text": [
      "3 * 1 = 3\n",
      "3 * 2 = 6\n",
      "3 * 3 = 9\n",
      "3 * 4 = 12\n",
      "3 * 5 = 15\n",
      "3 * 6 = 18\n",
      "3 * 7 = 21\n",
      "3 * 8 = 24\n",
      "3 * 9 = 27\n",
      "3 * 10 = 30\n"
     ]
    }
   ],
   "source": [
    "##Q5.)\n",
    "\n",
    "##Ans: A while loop will run apiece of code while a codition is true.\n",
    "    ##It will keep executing the desired set of of code statements until that cindition is no longer TRUE.\n",
    "    ##A while loop will always check the condition before running.if the condition ievaluates TRUE then the loop will run code within the loop's boddy.\n",
    "    \n",
    "\n",
    "n = int(input(\"enter your number\"))\n",
    "i = 1\n",
    "\n",
    "while i <= 10:\n",
    "        result = n * i\n",
    "        print(n,\"*\" , i,\"=\",result)\n",
    "        i = i +1\n",
    "\n",
    "\n",
    "\n"
   ]
  },
  {
   "cell_type": "code",
   "execution_count": 13,
   "id": "71eb3e8a-7fd5-4468-99d4-73b25745eafb",
   "metadata": {},
   "outputs": [
    {
     "name": "stdin",
     "output_type": "stream",
     "text": [
      "enter the no of rows 13\n"
     ]
    },
    {
     "name": "stdout",
     "output_type": "stream",
     "text": [
      "*************\n",
      "************\n",
      "***********\n",
      "**********\n",
      "*********\n",
      "********\n",
      "*******\n",
      "******\n",
      "*****\n",
      "****\n",
      "***\n",
      "**\n",
      "*\n"
     ]
    }
   ],
   "source": [
    "##Q6.)\n",
    "\n",
    "rows = int(input(\"enter the no of rows\"))\n",
    "\n",
    "if rows >= 15:\n",
    "    i = 1\n",
    "    while i <= rows:\n",
    "        j = 1\n",
    "        while j <= i:\n",
    "            print(\"*\",end = \"\")\n",
    "            j = j + 1\n",
    "\n",
    "        print(\"\")\n",
    "        i = i + 1 \n",
    "        \n",
    "        \n",
    "elif rows >= 10 and rows < 15:\n",
    "    i = rows\n",
    "    while i >= 1:\n",
    "        j = i\n",
    "        while j >= 1:\n",
    "            print(\"*\",end = \"\")\n",
    "            j = j - 1\n",
    "            \n",
    "        print(\"\")\n",
    "        i = i - 1\n",
    "   "
   ]
  },
  {
   "cell_type": "code",
   "execution_count": 4,
   "id": "fb68c536-947f-4665-9b42-4ac8e226197f",
   "metadata": {},
   "outputs": [],
   "source": [
    "l1 =[ 1,2,3,4,5,6,7,8,9,10]"
   ]
  },
  {
   "cell_type": "code",
   "execution_count": 12,
   "id": "8e4ca52e-b4bd-488d-9acb-4384465627f0",
   "metadata": {},
   "outputs": [
    {
     "name": "stdout",
     "output_type": "stream",
     "text": [
      "10\n",
      "9\n",
      "8\n",
      "7\n",
      "6\n",
      "5\n",
      "4\n",
      "3\n",
      "2\n",
      "1\n"
     ]
    }
   ],
   "source": [
    "##Q7\n",
    "count = 10\n",
    "\n",
    "while count > 0:\n",
    "    print(count)\n",
    "    count = count -1\n",
    "    "
   ]
  },
  {
   "cell_type": "code",
   "execution_count": null,
   "id": "e0010258-74cb-4528-b597-d0bad04f5fe2",
   "metadata": {},
   "outputs": [],
   "source": []
  },
  {
   "cell_type": "code",
   "execution_count": null,
   "id": "0b8e530c-57ab-4c1b-a45a-04599fcc7bc4",
   "metadata": {},
   "outputs": [],
   "source": []
  },
  {
   "cell_type": "code",
   "execution_count": null,
   "id": "1f32d336-dc0b-4e6c-ba55-06463d80cd8e",
   "metadata": {},
   "outputs": [],
   "source": []
  }
 ],
 "metadata": {
  "kernelspec": {
   "display_name": "Python 3 (ipykernel)",
   "language": "python",
   "name": "python3"
  },
  "language_info": {
   "codemirror_mode": {
    "name": "ipython",
    "version": 3
   },
   "file_extension": ".py",
   "mimetype": "text/x-python",
   "name": "python",
   "nbconvert_exporter": "python",
   "pygments_lexer": "ipython3",
   "version": "3.10.8"
  }
 },
 "nbformat": 4,
 "nbformat_minor": 5
}
